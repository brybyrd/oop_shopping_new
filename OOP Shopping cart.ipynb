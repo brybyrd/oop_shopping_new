{
 "cells": [
  {
   "cell_type": "code",
   "execution_count": 31,
   "metadata": {},
   "outputs": [],
   "source": [
    "#class Item:\n",
    "    #def __init__ (self, name, price)\n",
    "    \n",
    "class Cart:\n",
    "    def __init__(self):\n",
    "        self.cart = {}\n",
    "    \n",
    "    def in_cart (self):\n",
    "        for keys in self.cart: \n",
    "            print(keys, self.cart[keys])\n",
    "            \n",
    "        \n",
    "    def add_cart (self):\n",
    "        item = input (\"What item would like to add?\")\n",
    "        self.cart[item]= self.cart.get(item, 0)+1\n",
    "        \n",
    "            \n",
    "    def remove_cart(self):\n",
    "        item= input(\"What would you like to remove?\")\n",
    "        self.cart[item]=self.cart.get(item,1)-1\n",
    "        \n",
    "    def run (self):\n",
    "        while True: \n",
    "            action= input (\"What would you like to do? 'Add or Remove?''Check cart?''\")\n",
    "            action= action.lower()\n",
    "            if action== \"add\":\n",
    "                self.add_cart()\n",
    "            if action== \"check cart\":\n",
    "                self.in_cart()\n",
    "            if action== \"remove\":\n",
    "                self.remove_cart()\n",
    "            if action== \"exit\":\n",
    "                break\n",
    "my_cart = Cart ()\n",
    "your_cart= Cart ()"
   ]
  },
  {
   "cell_type": "code",
   "execution_count": 30,
   "metadata": {},
   "outputs": [
    {
     "name": "stdout",
     "output_type": "stream",
     "text": [
      "Banana 2\n"
     ]
    }
   ],
   "source": [
    "my_cart.in_cart()"
   ]
  },
  {
   "cell_type": "code",
   "execution_count": 32,
   "metadata": {},
   "outputs": [
    {
     "name": "stdout",
     "output_type": "stream",
     "text": [
      "What would you like to do? 'Add or Remove?''Check cart?''Add\n",
      "What item would like to add?egg\n",
      "What would you like to do? 'Add or Remove?''Check cart?''check cart\n",
      "egg 1\n",
      "What would you like to do? 'Add or Remove?''Check cart?''remove \n",
      "What would you like to do? 'Add or Remove?''Check cart?''egg\n",
      "What would you like to do? 'Add or Remove?''Check cart?''check cart\n",
      "egg 1\n",
      "What would you like to do? 'Add or Remove?''Check cart?''remove\n",
      "What would you like to remove?egg\n",
      "What would you like to do? 'Add or Remove?''Check cart?''check cart\n",
      "egg 0\n",
      "What would you like to do? 'Add or Remove?''Check cart?''exit\n"
     ]
    }
   ],
   "source": [
    "my_cart.run()"
   ]
  },
  {
   "cell_type": "code",
   "execution_count": 26,
   "metadata": {},
   "outputs": [
    {
     "name": "stdout",
     "output_type": "stream",
     "text": [
      "What would you like to remove?Banana\n"
     ]
    }
   ],
   "source": [
    "my_cart.remove_cart()"
   ]
  },
  {
   "cell_type": "code",
   "execution_count": 24,
   "metadata": {},
   "outputs": [
    {
     "name": "stdout",
     "output_type": "stream",
     "text": [
      "What item would like to add?Banana\n"
     ]
    }
   ],
   "source": [
    "my_cart.add_cart()"
   ]
  }
 ],
 "metadata": {
  "kernelspec": {
   "display_name": "Python 3",
   "language": "python",
   "name": "python3"
  },
  "language_info": {
   "codemirror_mode": {
    "name": "ipython",
    "version": 3
   },
   "file_extension": ".py",
   "mimetype": "text/x-python",
   "name": "python",
   "nbconvert_exporter": "python",
   "pygments_lexer": "ipython3",
   "version": "3.8.5"
  }
 },
 "nbformat": 4,
 "nbformat_minor": 4
}
